{
 "cells": [
  {
   "cell_type": "code",
   "execution_count": 1,
   "id": "8ef5eaba",
   "metadata": {},
   "outputs": [],
   "source": [
    "import pandas as pd\n",
    "import numpy as np\n",
    "import matplotlib.pyplot as plt\n",
    "import seaborn as sns\n"
   ]
  },
  {
   "cell_type": "code",
   "execution_count": 2,
   "id": "7689111b",
   "metadata": {},
   "outputs": [
    {
     "data": {
      "text/html": [
       "<div>\n",
       "<style scoped>\n",
       "    .dataframe tbody tr th:only-of-type {\n",
       "        vertical-align: middle;\n",
       "    }\n",
       "\n",
       "    .dataframe tbody tr th {\n",
       "        vertical-align: top;\n",
       "    }\n",
       "\n",
       "    .dataframe thead th {\n",
       "        text-align: right;\n",
       "    }\n",
       "</style>\n",
       "<table border=\"1\" class=\"dataframe\">\n",
       "  <thead>\n",
       "    <tr style=\"text-align: right;\">\n",
       "      <th></th>\n",
       "      <th>age</th>\n",
       "      <th>sex</th>\n",
       "      <th>bmi</th>\n",
       "      <th>children</th>\n",
       "      <th>smoker</th>\n",
       "      <th>region</th>\n",
       "      <th>expenses</th>\n",
       "    </tr>\n",
       "  </thead>\n",
       "  <tbody>\n",
       "    <tr>\n",
       "      <th>0</th>\n",
       "      <td>19</td>\n",
       "      <td>female</td>\n",
       "      <td>27.9</td>\n",
       "      <td>0</td>\n",
       "      <td>yes</td>\n",
       "      <td>southwest</td>\n",
       "      <td>16884.92</td>\n",
       "    </tr>\n",
       "    <tr>\n",
       "      <th>1</th>\n",
       "      <td>18</td>\n",
       "      <td>male</td>\n",
       "      <td>33.8</td>\n",
       "      <td>1</td>\n",
       "      <td>no</td>\n",
       "      <td>southeast</td>\n",
       "      <td>1725.55</td>\n",
       "    </tr>\n",
       "    <tr>\n",
       "      <th>2</th>\n",
       "      <td>28</td>\n",
       "      <td>male</td>\n",
       "      <td>33.0</td>\n",
       "      <td>3</td>\n",
       "      <td>no</td>\n",
       "      <td>southeast</td>\n",
       "      <td>4449.46</td>\n",
       "    </tr>\n",
       "    <tr>\n",
       "      <th>3</th>\n",
       "      <td>33</td>\n",
       "      <td>male</td>\n",
       "      <td>22.7</td>\n",
       "      <td>0</td>\n",
       "      <td>no</td>\n",
       "      <td>northwest</td>\n",
       "      <td>21984.47</td>\n",
       "    </tr>\n",
       "    <tr>\n",
       "      <th>4</th>\n",
       "      <td>32</td>\n",
       "      <td>male</td>\n",
       "      <td>28.9</td>\n",
       "      <td>0</td>\n",
       "      <td>no</td>\n",
       "      <td>northwest</td>\n",
       "      <td>3866.86</td>\n",
       "    </tr>\n",
       "  </tbody>\n",
       "</table>\n",
       "</div>"
      ],
      "text/plain": [
       "   age     sex   bmi  children smoker     region  expenses\n",
       "0   19  female  27.9         0    yes  southwest  16884.92\n",
       "1   18    male  33.8         1     no  southeast   1725.55\n",
       "2   28    male  33.0         3     no  southeast   4449.46\n",
       "3   33    male  22.7         0     no  northwest  21984.47\n",
       "4   32    male  28.9         0     no  northwest   3866.86"
      ]
     },
     "execution_count": 2,
     "metadata": {},
     "output_type": "execute_result"
    }
   ],
   "source": [
    "df=pd.read_excel('insurance.xlsx')\n",
    "df.head()"
   ]
  },
  {
   "cell_type": "code",
   "execution_count": 3,
   "id": "2b52a892",
   "metadata": {},
   "outputs": [
    {
     "data": {
      "text/plain": [
       "(1338, 7)"
      ]
     },
     "execution_count": 3,
     "metadata": {},
     "output_type": "execute_result"
    }
   ],
   "source": [
    "df.shape\n"
   ]
  },
  {
   "cell_type": "code",
   "execution_count": 4,
   "id": "d9905291",
   "metadata": {},
   "outputs": [
    {
     "name": "stdout",
     "output_type": "stream",
     "text": [
      "categorical values: ['sex', 'smoker', 'region']\n",
      "continuous values: ['bmi', 'expenses']\n",
      "features to be checked ['age', 'children']\n"
     ]
    }
   ],
   "source": [
    "categorical=[]\n",
    "continuous=[]\n",
    "check=[]\n",
    "\n",
    "d_types=dict(df.dtypes)\n",
    "for name, type in d_types.items():\n",
    "    if str(type)=='object':\n",
    "        categorical.append(name)\n",
    "    elif str(type)=='float64':\n",
    "        continuous.append(name)\n",
    "    else:\n",
    "        check.append(name)\n",
    "        \n",
    "print('categorical values:',categorical)\n",
    "print('continuous values:',continuous) \n",
    "print('features to be checked',check)"
   ]
  },
  {
   "cell_type": "code",
   "execution_count": 5,
   "id": "ca05dc38",
   "metadata": {},
   "outputs": [],
   "source": [
    "df['sex'].replace({'female':0,'male':1},inplace=True)\n",
    "df['smoker'].replace({'no':0,'yes':1},inplace=True)\n",
    "\n",
    "df.drop('region',axis=1,inplace=True)"
   ]
  },
  {
   "cell_type": "code",
   "execution_count": 6,
   "id": "bf82a3ee",
   "metadata": {},
   "outputs": [
    {
     "data": {
      "text/html": [
       "<div>\n",
       "<style scoped>\n",
       "    .dataframe tbody tr th:only-of-type {\n",
       "        vertical-align: middle;\n",
       "    }\n",
       "\n",
       "    .dataframe tbody tr th {\n",
       "        vertical-align: top;\n",
       "    }\n",
       "\n",
       "    .dataframe thead th {\n",
       "        text-align: right;\n",
       "    }\n",
       "</style>\n",
       "<table border=\"1\" class=\"dataframe\">\n",
       "  <thead>\n",
       "    <tr style=\"text-align: right;\">\n",
       "      <th></th>\n",
       "      <th>age</th>\n",
       "      <th>sex</th>\n",
       "      <th>bmi</th>\n",
       "      <th>children</th>\n",
       "      <th>smoker</th>\n",
       "      <th>expenses</th>\n",
       "    </tr>\n",
       "  </thead>\n",
       "  <tbody>\n",
       "    <tr>\n",
       "      <th>0</th>\n",
       "      <td>19</td>\n",
       "      <td>0</td>\n",
       "      <td>27.9</td>\n",
       "      <td>0</td>\n",
       "      <td>1</td>\n",
       "      <td>16884.92</td>\n",
       "    </tr>\n",
       "    <tr>\n",
       "      <th>1</th>\n",
       "      <td>18</td>\n",
       "      <td>1</td>\n",
       "      <td>33.8</td>\n",
       "      <td>1</td>\n",
       "      <td>0</td>\n",
       "      <td>1725.55</td>\n",
       "    </tr>\n",
       "    <tr>\n",
       "      <th>2</th>\n",
       "      <td>28</td>\n",
       "      <td>1</td>\n",
       "      <td>33.0</td>\n",
       "      <td>3</td>\n",
       "      <td>0</td>\n",
       "      <td>4449.46</td>\n",
       "    </tr>\n",
       "    <tr>\n",
       "      <th>3</th>\n",
       "      <td>33</td>\n",
       "      <td>1</td>\n",
       "      <td>22.7</td>\n",
       "      <td>0</td>\n",
       "      <td>0</td>\n",
       "      <td>21984.47</td>\n",
       "    </tr>\n",
       "    <tr>\n",
       "      <th>4</th>\n",
       "      <td>32</td>\n",
       "      <td>1</td>\n",
       "      <td>28.9</td>\n",
       "      <td>0</td>\n",
       "      <td>0</td>\n",
       "      <td>3866.86</td>\n",
       "    </tr>\n",
       "  </tbody>\n",
       "</table>\n",
       "</div>"
      ],
      "text/plain": [
       "   age  sex   bmi  children  smoker  expenses\n",
       "0   19    0  27.9         0       1  16884.92\n",
       "1   18    1  33.8         1       0   1725.55\n",
       "2   28    1  33.0         3       0   4449.46\n",
       "3   33    1  22.7         0       0  21984.47\n",
       "4   32    1  28.9         0       0   3866.86"
      ]
     },
     "execution_count": 6,
     "metadata": {},
     "output_type": "execute_result"
    }
   ],
   "source": [
    "df.head()"
   ]
  },
  {
   "cell_type": "code",
   "execution_count": 7,
   "id": "9069e116",
   "metadata": {},
   "outputs": [],
   "source": [
    "x=df.drop('expenses',axis=1)\n",
    "y=df['expenses']"
   ]
  },
  {
   "cell_type": "code",
   "execution_count": 8,
   "id": "e5f3f6a0",
   "metadata": {},
   "outputs": [],
   "source": [
    "from sklearn.model_selection import train_test_split\n",
    "x_train,x_test,y_train,y_test=train_test_split(x,y,test_size=0.2,random_state=42)"
   ]
  },
  {
   "cell_type": "markdown",
   "id": "58d42a14",
   "metadata": {},
   "source": [
    "# Lasso Regression"
   ]
  },
  {
   "cell_type": "code",
   "execution_count": 9,
   "id": "16ebad55",
   "metadata": {},
   "outputs": [
    {
     "data": {
      "text/plain": [
       "Lasso()"
      ]
     },
     "execution_count": 9,
     "metadata": {},
     "output_type": "execute_result"
    }
   ],
   "source": [
    "from sklearn.linear_model import Lasso\n",
    "\n",
    "model1=Lasso()\n",
    "model1.fit(x_train,y_train)"
   ]
  },
  {
   "cell_type": "code",
   "execution_count": 10,
   "id": "a68d23c5",
   "metadata": {},
   "outputs": [],
   "source": [
    "train_predictions=model1.predict(x_train)\n",
    "test_predictions=model1.predict(x_test)"
   ]
  },
  {
   "cell_type": "code",
   "execution_count": 11,
   "id": "50b0d1a0",
   "metadata": {},
   "outputs": [
    {
     "data": {
      "text/plain": [
       "0.7411141811626791"
      ]
     },
     "execution_count": 11,
     "metadata": {},
     "output_type": "execute_result"
    }
   ],
   "source": [
    "model1.score(x_train,y_train)"
   ]
  },
  {
   "cell_type": "code",
   "execution_count": 12,
   "id": "d83233c4",
   "metadata": {},
   "outputs": [
    {
     "data": {
      "text/plain": [
       "0.7810864578730293"
      ]
     },
     "execution_count": 12,
     "metadata": {},
     "output_type": "execute_result"
    }
   ],
   "source": [
    "model1.score(x_test,y_test)"
   ]
  },
  {
   "cell_type": "code",
   "execution_count": 13,
   "id": "331a414a",
   "metadata": {},
   "outputs": [
    {
     "name": "stdout",
     "output_type": "stream",
     "text": [
      "cross validation score: 0.7466664879428851\n"
     ]
    }
   ],
   "source": [
    "from sklearn.model_selection import cross_val_score\n",
    "print('cross validation score:',cross_val_score(model1,x,y,cv=5).mean())"
   ]
  },
  {
   "cell_type": "code",
   "execution_count": 14,
   "id": "f2d3d1aa",
   "metadata": {},
   "outputs": [
    {
     "data": {
      "text/plain": [
       "{'alpha': 10}"
      ]
     },
     "execution_count": 14,
     "metadata": {},
     "output_type": "execute_result"
    }
   ],
   "source": [
    "from sklearn.model_selection import GridSearchCV\n",
    "estimator=Lasso()\n",
    "\n",
    "param_grid={'alpha':[1,2,3,4,5,6,7,8,9,10]}\n",
    "\n",
    "model1.hp=GridSearchCV(estimator,param_grid,cv=5,scoring='neg_mean_squared_error')\n",
    "model1.hp.fit(x_train,y_train)\n",
    "model1.hp.best_params_"
   ]
  },
  {
   "cell_type": "code",
   "execution_count": 15,
   "id": "adc51ea0",
   "metadata": {},
   "outputs": [
    {
     "name": "stdout",
     "output_type": "stream",
     "text": [
      "0.7411094487260133\n",
      "0.7809614490519589\n",
      "cross validation score: 0.7467299170217538\n"
     ]
    }
   ],
   "source": [
    "from sklearn.linear_model import Lasso\n",
    "\n",
    "model1_best=Lasso(alpha=10)\n",
    "model1_best.fit(x_train,y_train)\n",
    "\n",
    "train_predictions=model1_best.predict(x_train)\n",
    "test_predictions=model1_best.predict(x_test)\n",
    "\n",
    "print(model1_best.score(x_train,y_train))\n",
    "print(model1_best.score(x_test,y_test))\n",
    "\n",
    "from sklearn.model_selection import cross_val_score\n",
    "print('cross validation score:',cross_val_score(model1_best,x,y,cv=5).mean())"
   ]
  },
  {
   "cell_type": "code",
   "execution_count": 16,
   "id": "4403c44d",
   "metadata": {},
   "outputs": [
    {
     "data": {
      "text/plain": [
       "-12117.468526477174"
      ]
     },
     "execution_count": 16,
     "metadata": {},
     "output_type": "execute_result"
    }
   ],
   "source": [
    "model1.intercept_\n"
   ]
  },
  {
   "cell_type": "code",
   "execution_count": 17,
   "id": "f9f7786d",
   "metadata": {},
   "outputs": [
    {
     "data": {
      "text/plain": [
       "array([ 2.57042736e+02, -3.46456634e+00,  3.27665563e+02,  4.26944413e+02,\n",
       "        2.36465356e+04])"
      ]
     },
     "execution_count": 17,
     "metadata": {},
     "output_type": "execute_result"
    }
   ],
   "source": [
    "model1.coef_"
   ]
  },
  {
   "cell_type": "code",
   "execution_count": 18,
   "id": "0b4ee360",
   "metadata": {},
   "outputs": [
    {
     "data": {
      "text/plain": [
       "-12090.596482929921"
      ]
     },
     "execution_count": 18,
     "metadata": {},
     "output_type": "execute_result"
    }
   ],
   "source": [
    "model1_best.intercept_"
   ]
  },
  {
   "cell_type": "code",
   "execution_count": 19,
   "id": "15418451",
   "metadata": {},
   "outputs": [
    {
     "data": {
      "text/plain": [
       "array([ 2.57042736e+02, -3.46456634e+00,  3.27665563e+02,  4.26944413e+02,\n",
       "        2.36465356e+04])"
      ]
     },
     "execution_count": 19,
     "metadata": {},
     "output_type": "execute_result"
    }
   ],
   "source": [
    "model1.coef_"
   ]
  },
  {
   "cell_type": "markdown",
   "id": "2e1fa7c7",
   "metadata": {},
   "source": [
    "## Final Model Of Lasso regression"
   ]
  },
  {
   "cell_type": "code",
   "execution_count": 20,
   "id": "ba2cfc1b",
   "metadata": {},
   "outputs": [
    {
     "name": "stdout",
     "output_type": "stream",
     "text": [
      "0.74110944870169\n",
      "0.7809614477274642\n",
      "cross validation score: 0.7469456440629066\n"
     ]
    }
   ],
   "source": [
    "# FINAL MODEL\n",
    "x=x.drop(x.columns[[1]],axis=1)\n",
    "\n",
    "y=df['expenses']\n",
    "\n",
    "x_train,x_test,y_train,y_test=train_test_split(x,y,test_size=0.2,random_state=42)\n",
    "from sklearn.linear_model import Lasso\n",
    "\n",
    "model1_best=Lasso(alpha=10)\n",
    "model1_best.fit(x_train,y_train)\n",
    "\n",
    "train_predictions=model1_best.predict(x_train)\n",
    "test_predictions=model1_best.predict(x_test)\n",
    "\n",
    "print(model1_best.score(x_train,y_train))\n",
    "print(model1_best.score(x_test,y_test))\n",
    "\n",
    "from sklearn.model_selection import cross_val_score\n",
    "print('cross validation score:',cross_val_score(model1_best,x,y,cv=5).mean())\n"
   ]
  },
  {
   "cell_type": "code",
   "execution_count": null,
   "id": "06bb7761",
   "metadata": {},
   "outputs": [],
   "source": []
  },
  {
   "cell_type": "code",
   "execution_count": 21,
   "id": "02f23691",
   "metadata": {},
   "outputs": [],
   "source": [
    "input_data={'age':31,\n",
    "           'sex':'female',\n",
    "           'bmi':25.74,\n",
    "           'children':0,\n",
    "           'smoker':'no',\n",
    "           'region':'northeast'}"
   ]
  },
  {
   "cell_type": "code",
   "execution_count": 22,
   "id": "be8470af",
   "metadata": {},
   "outputs": [],
   "source": [
    "df_test=pd.DataFrame(input_data,index=[0])\n",
    "\n",
    "df_test.drop('region',axis=1,inplace=True)\n",
    "df_test['sex'].replace({'female':0,'male':1},inplace=True)\n",
    "df_test['smoker'].replace({'no':0,'yes':1},inplace=True)\n",
    "\n",
    "transformed_data=df_test.drop(df_test.columns[[1]],axis=1)"
   ]
  },
  {
   "cell_type": "code",
   "execution_count": 23,
   "id": "51ba926f",
   "metadata": {},
   "outputs": [
    {
     "data": {
      "text/plain": [
       "array([4302.89154655])"
      ]
     },
     "execution_count": 23,
     "metadata": {},
     "output_type": "execute_result"
    }
   ],
   "source": [
    "model1_best.predict(transformed_data)"
   ]
  },
  {
   "cell_type": "code",
   "execution_count": 24,
   "id": "bf344aec",
   "metadata": {},
   "outputs": [],
   "source": [
    "predicted_data={'age':18,\n",
    "           'sex':'male',\n",
    "           'bmi':33.8,\n",
    "           'children':1,\n",
    "           'smoker':'no',\n",
    "           'region':'southeast'}"
   ]
  },
  {
   "cell_type": "code",
   "execution_count": 25,
   "id": "15377556",
   "metadata": {},
   "outputs": [],
   "source": [
    "test_data=pd.DataFrame(predicted_data,index=[0])\n",
    "\n",
    "test_data.drop('region',axis=1,inplace=True)\n",
    "test_data['sex'].replace({'female':0,'male':1},inplace=True)\n",
    "test_data['smoker'].replace({'no':0,'yes':1},inplace=True)\n",
    "\n",
    "transformed_test_data=test_data.drop(test_data.columns[[1]],axis=1)"
   ]
  },
  {
   "cell_type": "code",
   "execution_count": 26,
   "id": "b5434d97",
   "metadata": {},
   "outputs": [
    {
     "data": {
      "text/plain": [
       "array([4022.57422757])"
      ]
     },
     "execution_count": 26,
     "metadata": {},
     "output_type": "execute_result"
    }
   ],
   "source": [
    "model1_best.predict(transformed_test_data)"
   ]
  },
  {
   "cell_type": "code",
   "execution_count": 27,
   "id": "225e2098",
   "metadata": {},
   "outputs": [],
   "source": [
    "test_pred=y_test-test_predictions"
   ]
  },
  {
   "cell_type": "code",
   "execution_count": 28,
   "id": "8a392b81",
   "metadata": {},
   "outputs": [
    {
     "data": {
      "text/plain": [
       "764      529.292648\n",
       "887    -1710.309981\n",
       "890    -7422.549158\n",
       "1293    -105.693818\n",
       "259     6922.784253\n",
       "Name: expenses, dtype: float64"
      ]
     },
     "execution_count": 28,
     "metadata": {},
     "output_type": "execute_result"
    }
   ],
   "source": [
    "test_pred.head()"
   ]
  },
  {
   "cell_type": "code",
   "execution_count": null,
   "id": "e9cfcb8d",
   "metadata": {},
   "outputs": [],
   "source": []
  },
  {
   "cell_type": "code",
   "execution_count": 29,
   "id": "159ce0dd",
   "metadata": {},
   "outputs": [
    {
     "data": {
      "text/plain": [
       "0.7809614477274642"
      ]
     },
     "execution_count": 29,
     "metadata": {},
     "output_type": "execute_result"
    }
   ],
   "source": [
    "model1_best.score(x_test,y_test)"
   ]
  },
  {
   "cell_type": "code",
   "execution_count": 30,
   "id": "b1ac8bbe",
   "metadata": {},
   "outputs": [
    {
     "data": {
      "text/plain": [
       "0.7469456440629066"
      ]
     },
     "execution_count": 30,
     "metadata": {},
     "output_type": "execute_result"
    }
   ],
   "source": [
    "cross_val_score(model1_best,x,y,cv=5).mean()"
   ]
  },
  {
   "cell_type": "markdown",
   "id": "4ac99674",
   "metadata": {},
   "source": [
    "# RIDGE Regression"
   ]
  },
  {
   "cell_type": "code",
   "execution_count": 36,
   "id": "2586f0f8",
   "metadata": {},
   "outputs": [
    {
     "data": {
      "text/html": [
       "<div>\n",
       "<style scoped>\n",
       "    .dataframe tbody tr th:only-of-type {\n",
       "        vertical-align: middle;\n",
       "    }\n",
       "\n",
       "    .dataframe tbody tr th {\n",
       "        vertical-align: top;\n",
       "    }\n",
       "\n",
       "    .dataframe thead th {\n",
       "        text-align: right;\n",
       "    }\n",
       "</style>\n",
       "<table border=\"1\" class=\"dataframe\">\n",
       "  <thead>\n",
       "    <tr style=\"text-align: right;\">\n",
       "      <th></th>\n",
       "      <th>age</th>\n",
       "      <th>sex</th>\n",
       "      <th>bmi</th>\n",
       "      <th>children</th>\n",
       "      <th>smoker</th>\n",
       "      <th>region</th>\n",
       "      <th>expenses</th>\n",
       "    </tr>\n",
       "  </thead>\n",
       "  <tbody>\n",
       "    <tr>\n",
       "      <th>0</th>\n",
       "      <td>19</td>\n",
       "      <td>female</td>\n",
       "      <td>27.9</td>\n",
       "      <td>0</td>\n",
       "      <td>yes</td>\n",
       "      <td>southwest</td>\n",
       "      <td>16884.92</td>\n",
       "    </tr>\n",
       "    <tr>\n",
       "      <th>1</th>\n",
       "      <td>18</td>\n",
       "      <td>male</td>\n",
       "      <td>33.8</td>\n",
       "      <td>1</td>\n",
       "      <td>no</td>\n",
       "      <td>southeast</td>\n",
       "      <td>1725.55</td>\n",
       "    </tr>\n",
       "    <tr>\n",
       "      <th>2</th>\n",
       "      <td>28</td>\n",
       "      <td>male</td>\n",
       "      <td>33.0</td>\n",
       "      <td>3</td>\n",
       "      <td>no</td>\n",
       "      <td>southeast</td>\n",
       "      <td>4449.46</td>\n",
       "    </tr>\n",
       "    <tr>\n",
       "      <th>3</th>\n",
       "      <td>33</td>\n",
       "      <td>male</td>\n",
       "      <td>22.7</td>\n",
       "      <td>0</td>\n",
       "      <td>no</td>\n",
       "      <td>northwest</td>\n",
       "      <td>21984.47</td>\n",
       "    </tr>\n",
       "    <tr>\n",
       "      <th>4</th>\n",
       "      <td>32</td>\n",
       "      <td>male</td>\n",
       "      <td>28.9</td>\n",
       "      <td>0</td>\n",
       "      <td>no</td>\n",
       "      <td>northwest</td>\n",
       "      <td>3866.86</td>\n",
       "    </tr>\n",
       "  </tbody>\n",
       "</table>\n",
       "</div>"
      ],
      "text/plain": [
       "   age     sex   bmi  children smoker     region  expenses\n",
       "0   19  female  27.9         0    yes  southwest  16884.92\n",
       "1   18    male  33.8         1     no  southeast   1725.55\n",
       "2   28    male  33.0         3     no  southeast   4449.46\n",
       "3   33    male  22.7         0     no  northwest  21984.47\n",
       "4   32    male  28.9         0     no  northwest   3866.86"
      ]
     },
     "execution_count": 36,
     "metadata": {},
     "output_type": "execute_result"
    }
   ],
   "source": [
    "df=pd.read_excel('insurance.xlsx')\n",
    "df.head()"
   ]
  },
  {
   "cell_type": "code",
   "execution_count": 37,
   "id": "741f9b7e",
   "metadata": {},
   "outputs": [
    {
     "name": "stdout",
     "output_type": "stream",
     "text": [
      "categorical values: ['sex', 'smoker', 'region']\n",
      "continuous values: ['bmi', 'expenses']\n",
      "features to be checked ['age', 'children']\n"
     ]
    }
   ],
   "source": [
    "categorical=[]\n",
    "continuous=[]\n",
    "check=[]\n",
    "\n",
    "d_types=dict(df.dtypes)\n",
    "for name, type in d_types.items():\n",
    "    if str(type)=='object':\n",
    "        categorical.append(name)\n",
    "    elif str(type)=='float64':\n",
    "        continuous.append(name)\n",
    "    else:\n",
    "        check.append(name)\n",
    "        \n",
    "print('categorical values:',categorical)\n",
    "print('continuous values:',continuous) \n",
    "print('features to be checked',check)"
   ]
  },
  {
   "cell_type": "code",
   "execution_count": 38,
   "id": "05ce9660",
   "metadata": {},
   "outputs": [],
   "source": [
    "df['sex'].replace({'female':0,'male':1},inplace=True)\n",
    "df['smoker'].replace({'no':0,'yes':1},inplace=True)\n",
    "\n",
    "df.drop('region',axis=1,inplace=True)"
   ]
  },
  {
   "cell_type": "code",
   "execution_count": 39,
   "id": "4b5b1edc",
   "metadata": {},
   "outputs": [
    {
     "data": {
      "text/html": [
       "<div>\n",
       "<style scoped>\n",
       "    .dataframe tbody tr th:only-of-type {\n",
       "        vertical-align: middle;\n",
       "    }\n",
       "\n",
       "    .dataframe tbody tr th {\n",
       "        vertical-align: top;\n",
       "    }\n",
       "\n",
       "    .dataframe thead th {\n",
       "        text-align: right;\n",
       "    }\n",
       "</style>\n",
       "<table border=\"1\" class=\"dataframe\">\n",
       "  <thead>\n",
       "    <tr style=\"text-align: right;\">\n",
       "      <th></th>\n",
       "      <th>age</th>\n",
       "      <th>sex</th>\n",
       "      <th>bmi</th>\n",
       "      <th>children</th>\n",
       "      <th>smoker</th>\n",
       "      <th>expenses</th>\n",
       "    </tr>\n",
       "  </thead>\n",
       "  <tbody>\n",
       "    <tr>\n",
       "      <th>0</th>\n",
       "      <td>19</td>\n",
       "      <td>0</td>\n",
       "      <td>27.9</td>\n",
       "      <td>0</td>\n",
       "      <td>1</td>\n",
       "      <td>16884.92</td>\n",
       "    </tr>\n",
       "    <tr>\n",
       "      <th>1</th>\n",
       "      <td>18</td>\n",
       "      <td>1</td>\n",
       "      <td>33.8</td>\n",
       "      <td>1</td>\n",
       "      <td>0</td>\n",
       "      <td>1725.55</td>\n",
       "    </tr>\n",
       "    <tr>\n",
       "      <th>2</th>\n",
       "      <td>28</td>\n",
       "      <td>1</td>\n",
       "      <td>33.0</td>\n",
       "      <td>3</td>\n",
       "      <td>0</td>\n",
       "      <td>4449.46</td>\n",
       "    </tr>\n",
       "    <tr>\n",
       "      <th>3</th>\n",
       "      <td>33</td>\n",
       "      <td>1</td>\n",
       "      <td>22.7</td>\n",
       "      <td>0</td>\n",
       "      <td>0</td>\n",
       "      <td>21984.47</td>\n",
       "    </tr>\n",
       "    <tr>\n",
       "      <th>4</th>\n",
       "      <td>32</td>\n",
       "      <td>1</td>\n",
       "      <td>28.9</td>\n",
       "      <td>0</td>\n",
       "      <td>0</td>\n",
       "      <td>3866.86</td>\n",
       "    </tr>\n",
       "  </tbody>\n",
       "</table>\n",
       "</div>"
      ],
      "text/plain": [
       "   age  sex   bmi  children  smoker  expenses\n",
       "0   19    0  27.9         0       1  16884.92\n",
       "1   18    1  33.8         1       0   1725.55\n",
       "2   28    1  33.0         3       0   4449.46\n",
       "3   33    1  22.7         0       0  21984.47\n",
       "4   32    1  28.9         0       0   3866.86"
      ]
     },
     "execution_count": 39,
     "metadata": {},
     "output_type": "execute_result"
    }
   ],
   "source": [
    "df.head()"
   ]
  },
  {
   "cell_type": "code",
   "execution_count": 40,
   "id": "71ebec8f",
   "metadata": {},
   "outputs": [],
   "source": [
    "x=df.drop('expenses',axis=1)\n",
    "y=df['expenses']"
   ]
  },
  {
   "cell_type": "code",
   "execution_count": 41,
   "id": "16409495",
   "metadata": {},
   "outputs": [],
   "source": [
    "from sklearn.model_selection import train_test_split\n",
    "x_train,x_test,y_train,y_test=train_test_split(x,y,test_size=0.2,random_state=42)"
   ]
  },
  {
   "cell_type": "code",
   "execution_count": 42,
   "id": "1989b9b7",
   "metadata": {},
   "outputs": [
    {
     "data": {
      "text/plain": [
       "Ridge()"
      ]
     },
     "execution_count": 42,
     "metadata": {},
     "output_type": "execute_result"
    }
   ],
   "source": [
    "from sklearn.linear_model import Ridge\n",
    "\n",
    "model=Ridge()\n",
    "model.fit(x_train,y_train)"
   ]
  },
  {
   "cell_type": "code",
   "execution_count": 43,
   "id": "534e96be",
   "metadata": {},
   "outputs": [],
   "source": [
    "train_predictions=model.predict(x_train)\n",
    "test_predictions=model.predict(x_test)"
   ]
  },
  {
   "cell_type": "code",
   "execution_count": 44,
   "id": "4852b29a",
   "metadata": {},
   "outputs": [
    {
     "data": {
      "text/plain": [
       "0.7808503355095352"
      ]
     },
     "execution_count": 44,
     "metadata": {},
     "output_type": "execute_result"
    }
   ],
   "source": [
    "model.score(x_train,y_train)\n",
    "model.score(x_test,y_test)"
   ]
  },
  {
   "cell_type": "code",
   "execution_count": 45,
   "id": "ee7e86c4",
   "metadata": {},
   "outputs": [
    {
     "name": "stdout",
     "output_type": "stream",
     "text": [
      "cross validation score: 0.7466523551462286\n"
     ]
    }
   ],
   "source": [
    "from sklearn.model_selection import cross_val_score\n",
    "print('cross validation score:',cross_val_score(model,x,y,cv=5).mean())"
   ]
  },
  {
   "cell_type": "code",
   "execution_count": 46,
   "id": "b5d29adb",
   "metadata": {},
   "outputs": [
    {
     "data": {
      "text/plain": [
       "{'alpha': 1}"
      ]
     },
     "execution_count": 46,
     "metadata": {},
     "output_type": "execute_result"
    }
   ],
   "source": [
    "from sklearn.model_selection import GridSearchCV\n",
    "estimator=Ridge()\n",
    "\n",
    "param_grid={'alpha':[1,2,3,4,5,6,7,8,9,10]}\n",
    "\n",
    "model.hp=GridSearchCV(estimator,param_grid,cv=5,scoring='neg_mean_squared_error')\n",
    "model.hp.fit(x_train,y_train)\n",
    "model.hp.best_params_"
   ]
  },
  {
   "cell_type": "code",
   "execution_count": 47,
   "id": "aa44726e",
   "metadata": {},
   "outputs": [
    {
     "name": "stdout",
     "output_type": "stream",
     "text": [
      "Intercept: -12087.404764651963\n",
      "coefficient: [ 2.56846489e+02 -1.64046217e-01  3.27707313e+02  4.28067878e+02\n",
      "  2.35174031e+04]\n",
      "train_score: 0.7410936091188807\n",
      "test_score: 0.7808503355095352\n",
      "cross_val_score: 0.7466523551462286\n"
     ]
    }
   ],
   "source": [
    "ridge_best=Ridge(alpha=1)\n",
    "ridge_best.fit(x_train,y_train)\n",
    "\n",
    "print('Intercept:',ridge_best.intercept_)\n",
    "print('coefficient:',ridge_best.coef_)\n",
    "\n",
    "train_predictios=ridge_best.predict(x_train)\n",
    "test_predictions=ridge_best.predict(x_test)\n",
    "\n",
    "print('train_score:',ridge_best.score(x_train,y_train))\n",
    "print('test_score:',ridge_best.score(x_test,y_test))\n",
    "print('cross_val_score:',cross_val_score(ridge_best,x,y,cv=5).mean())\n"
   ]
  },
  {
   "cell_type": "code",
   "execution_count": 48,
   "id": "823861da",
   "metadata": {},
   "outputs": [],
   "source": [
    "predicted_data={'age':28,\n",
    "           'sex':'male',\n",
    "           'bmi':33.8,\n",
    "           'children':3,\n",
    "           'smoker':'no',\n",
    "           'region':'southeast'}"
   ]
  },
  {
   "cell_type": "code",
   "execution_count": 49,
   "id": "048e063e",
   "metadata": {},
   "outputs": [],
   "source": [
    "test_data=pd.DataFrame(predicted_data,index=[0])\n",
    "\n",
    "test_data.drop('region',axis=1,inplace=True)\n",
    "test_data['sex'].replace({'female':0,'male':1},inplace=True)\n",
    "test_data['smoker'].replace({'no':0,'yes':1},inplace=True)\n",
    "\n"
   ]
  },
  {
   "cell_type": "code",
   "execution_count": 50,
   "id": "a7d04810",
   "metadata": {},
   "outputs": [
    {
     "data": {
      "text/html": [
       "<div>\n",
       "<style scoped>\n",
       "    .dataframe tbody tr th:only-of-type {\n",
       "        vertical-align: middle;\n",
       "    }\n",
       "\n",
       "    .dataframe tbody tr th {\n",
       "        vertical-align: top;\n",
       "    }\n",
       "\n",
       "    .dataframe thead th {\n",
       "        text-align: right;\n",
       "    }\n",
       "</style>\n",
       "<table border=\"1\" class=\"dataframe\">\n",
       "  <thead>\n",
       "    <tr style=\"text-align: right;\">\n",
       "      <th></th>\n",
       "      <th>age</th>\n",
       "      <th>sex</th>\n",
       "      <th>bmi</th>\n",
       "      <th>children</th>\n",
       "      <th>smoker</th>\n",
       "    </tr>\n",
       "  </thead>\n",
       "  <tbody>\n",
       "    <tr>\n",
       "      <th>0</th>\n",
       "      <td>28</td>\n",
       "      <td>1</td>\n",
       "      <td>33.8</td>\n",
       "      <td>3</td>\n",
       "      <td>0</td>\n",
       "    </tr>\n",
       "  </tbody>\n",
       "</table>\n",
       "</div>"
      ],
      "text/plain": [
       "   age  sex   bmi  children  smoker\n",
       "0   28    1  33.8         3       0"
      ]
     },
     "execution_count": 50,
     "metadata": {},
     "output_type": "execute_result"
    }
   ],
   "source": [
    "test_data"
   ]
  },
  {
   "cell_type": "code",
   "execution_count": 51,
   "id": "eac84db3",
   "metadata": {},
   "outputs": [
    {
     "data": {
      "text/plain": [
       "array([7464.84369154])"
      ]
     },
     "execution_count": 51,
     "metadata": {},
     "output_type": "execute_result"
    }
   ],
   "source": [
    "ridge_best.predict(test_data)"
   ]
  },
  {
   "cell_type": "code",
   "execution_count": null,
   "id": "04c1624e",
   "metadata": {},
   "outputs": [],
   "source": []
  },
  {
   "cell_type": "markdown",
   "id": "f1639074",
   "metadata": {},
   "source": [
    "| MODEL                | Train Score | Test Score | CV  Score |\n",
    "| ---------------------| ------------| -----------|-----------|\n",
    "| LASSO REGRESSION     |       0.741 |       0.78 |   0.7469  |\n",
    "| RIDGE REGRESSION     |    0.7410   |    0.7808  |   0.7466  |"
   ]
  },
  {
   "cell_type": "markdown",
   "id": "adc24680",
   "metadata": {},
   "source": [
    "# BEST MODEL = LASSO REGRESSION"
   ]
  },
  {
   "cell_type": "code",
   "execution_count": null,
   "id": "93e0ba1f",
   "metadata": {},
   "outputs": [],
   "source": []
  }
 ],
 "metadata": {
  "kernelspec": {
   "display_name": "Python 3 (ipykernel)",
   "language": "python",
   "name": "python3"
  },
  "language_info": {
   "codemirror_mode": {
    "name": "ipython",
    "version": 3
   },
   "file_extension": ".py",
   "mimetype": "text/x-python",
   "name": "python",
   "nbconvert_exporter": "python",
   "pygments_lexer": "ipython3",
   "version": "3.9.16"
  }
 },
 "nbformat": 4,
 "nbformat_minor": 5
}
