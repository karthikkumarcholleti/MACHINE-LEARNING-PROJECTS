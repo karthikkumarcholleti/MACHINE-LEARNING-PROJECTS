This project is the prediction of winner team in a Cricket league (Indian Premier League 2024) using Data Analysis and Machine learning Algorithms. The Model seems to be working well and returned good results.
I addressed many limitations thus far by utilizing skills learned in class.
Despite having big accuracy on test data, we are tried to lookout for overfitting scenarios.
