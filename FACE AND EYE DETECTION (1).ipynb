{
 "cells": [
  {
   "cell_type": "code",
   "execution_count": 1,
   "id": "bf9017b4",
   "metadata": {},
   "outputs": [],
   "source": [
    "import cv2\n",
    "import numpy as np\n",
    "\n"
   ]
  },
  {
   "cell_type": "code",
   "execution_count": 2,
   "id": "569d6d16",
   "metadata": {},
   "outputs": [
    {
     "name": "stdout",
     "output_type": "stream",
     "text": [
      "[[[255 255 255]\n",
      "  [255 255 255]\n",
      "  [255 255 255]\n",
      "  ...\n",
      "  [255 255 255]\n",
      "  [255 255 255]\n",
      "  [255 255 255]]\n",
      "\n",
      " [[255 255 255]\n",
      "  [255 255 255]\n",
      "  [255 255 255]\n",
      "  ...\n",
      "  [255 255 255]\n",
      "  [255 255 255]\n",
      "  [255 255 255]]\n",
      "\n",
      " [[255 255 255]\n",
      "  [255 255 255]\n",
      "  [255 255 255]\n",
      "  ...\n",
      "  [255 255 255]\n",
      "  [255 255 255]\n",
      "  [255 255 255]]\n",
      "\n",
      " ...\n",
      "\n",
      " [[255 255 255]\n",
      "  [255 255 255]\n",
      "  [255 255 255]\n",
      "  ...\n",
      "  [255 255 255]\n",
      "  [255 255 255]\n",
      "  [255 255 255]]\n",
      "\n",
      " [[255 255 255]\n",
      "  [255 255 255]\n",
      "  [255 255 255]\n",
      "  ...\n",
      "  [255 255 255]\n",
      "  [255 255 255]\n",
      "  [255 255 255]]\n",
      "\n",
      " [[255 255 255]\n",
      "  [255 255 255]\n",
      "  [255 255 255]\n",
      "  ...\n",
      "  [255 255 255]\n",
      "  [255 255 255]\n",
      "  [255 255 255]]]\n"
     ]
    }
   ],
   "source": [
    "img = cv2.imread('Modi.jpg',1)\n",
    "print(img)\n"
   ]
  },
  {
   "cell_type": "code",
   "execution_count": 3,
   "id": "a36bd372",
   "metadata": {},
   "outputs": [
    {
     "data": {
      "text/plain": [
       "(1358, 1500, 3)"
      ]
     },
     "execution_count": 3,
     "metadata": {},
     "output_type": "execute_result"
    }
   ],
   "source": [
    "img.shape"
   ]
  },
  {
   "cell_type": "markdown",
   "id": "df6988c9",
   "metadata": {},
   "source": [
    "## Original Modi Image"
   ]
  },
  {
   "cell_type": "code",
   "execution_count": 4,
   "id": "a4fe668c",
   "metadata": {},
   "outputs": [],
   "source": [
    "cv2.imshow('PM',img)\n",
    "cv2.waitKey(2000)\n",
    "cv2.destroyAllWindows()"
   ]
  },
  {
   "cell_type": "markdown",
   "id": "8a7b3349",
   "metadata": {},
   "source": [
    "## Resized Modi b/w Image"
   ]
  },
  {
   "cell_type": "code",
   "execution_count": 5,
   "id": "259d4fd6",
   "metadata": {},
   "outputs": [],
   "source": [
    "img=cv2.imread('Modi.jpg')\n",
    "resized_image=cv2.resize(img,(500,500))\n",
    "gray = cv2.cvtColor(resized_image,cv2.COLOR_BGR2GRAY)\n",
    "cv2.imshow('Modi Image', gray)\n",
    "cv2.waitKey(2000)\n",
    "cv2.destroyAllWindows()"
   ]
  },
  {
   "cell_type": "markdown",
   "id": "e8f659be",
   "metadata": {},
   "source": [
    "## Resized Modi color image"
   ]
  },
  {
   "cell_type": "code",
   "execution_count": 6,
   "id": "e5f237c7",
   "metadata": {},
   "outputs": [],
   "source": [
    "img=cv2.imread('Modi.jpg')\n",
    "resized_image=cv2.resize(img,(500,500))\n",
    "gray = cv2.cvtColor(resized_image,cv2.COLOR_BGR2GRAY)\n",
    "cv2.imshow('Modi Image', resized_image)\n",
    "cv2.waitKey(2000)\n",
    "cv2.destroyAllWindows()"
   ]
  },
  {
   "cell_type": "code",
   "execution_count": 7,
   "id": "5562af5b",
   "metadata": {},
   "outputs": [
    {
     "data": {
      "text/plain": [
       "679.0"
      ]
     },
     "execution_count": 7,
     "metadata": {},
     "output_type": "execute_result"
    }
   ],
   "source": [
    "img.shape[0]*0.5"
   ]
  },
  {
   "cell_type": "code",
   "execution_count": 8,
   "id": "5a38f39a",
   "metadata": {},
   "outputs": [
    {
     "data": {
      "text/plain": [
       "750.0"
      ]
     },
     "execution_count": 8,
     "metadata": {},
     "output_type": "execute_result"
    }
   ],
   "source": [
    "img.shape[1]*0.5"
   ]
  },
  {
   "cell_type": "code",
   "execution_count": 9,
   "id": "e6d1db52",
   "metadata": {},
   "outputs": [
    {
     "name": "stdout",
     "output_type": "stream",
     "text": [
      "< cv2.CascadeClassifier 0000025188C149D0>\n"
     ]
    }
   ],
   "source": [
    "face_classifier = cv2.CascadeClassifier('haarcascade_frontalface_default[1].xml')\n",
    "print(face_classifier)"
   ]
  },
  {
   "cell_type": "code",
   "execution_count": 11,
   "id": "5bf3c5fc",
   "metadata": {},
   "outputs": [],
   "source": [
    "image = cv2.imread('Modi.jpg')\n",
    "image = cv2.resize(image,(500,500))\n",
    "gray = cv2.cvtColor(image,cv2.COLOR_BGR2GRAY)\n",
    "faces = face_classifier.detectMultiScale(image , 1.05 , 5)\n"
   ]
  },
  {
   "cell_type": "code",
   "execution_count": 12,
   "id": "e96fbc6d",
   "metadata": {},
   "outputs": [
    {
     "name": "stdout",
     "output_type": "stream",
     "text": [
      "[[205  79 217 217]]\n"
     ]
    }
   ],
   "source": [
    "print(faces)"
   ]
  },
  {
   "cell_type": "markdown",
   "id": "e5182ee9",
   "metadata": {},
   "source": [
    "## Modi Face Detection b/w"
   ]
  },
  {
   "cell_type": "code",
   "execution_count": 13,
   "id": "20210285",
   "metadata": {},
   "outputs": [
    {
     "name": "stderr",
     "output_type": "stream",
     "text": [
      "<>:1: SyntaxWarning: \"is\" with a literal. Did you mean \"==\"?\n",
      "<>:1: SyntaxWarning: \"is\" with a literal. Did you mean \"==\"?\n",
      "C:\\Users\\choll\\AppData\\Local\\Temp\\ipykernel_29756\\2519581795.py:1: SyntaxWarning: \"is\" with a literal. Did you mean \"==\"?\n",
      "  if faces is ():\n"
     ]
    }
   ],
   "source": [
    "if faces is ():\n",
    "    print('No faces found')\n",
    "    \n",
    "for (x,y,w,h) in faces :\n",
    "    cv2.rectangle(gray,(x,y),(x+w,y+h),(0,255,100),1)\n",
    "cv2.imshow('Face Detection',gray)\n",
    "cv2.waitKey(2000)\n",
    "cv2.destroyAllWindows()"
   ]
  },
  {
   "cell_type": "markdown",
   "id": "be296a1f",
   "metadata": {},
   "source": [
    "## Modi Face Detection color"
   ]
  },
  {
   "cell_type": "code",
   "execution_count": 14,
   "id": "ff757cde",
   "metadata": {},
   "outputs": [
    {
     "name": "stderr",
     "output_type": "stream",
     "text": [
      "<>:1: SyntaxWarning: \"is\" with a literal. Did you mean \"==\"?\n",
      "<>:1: SyntaxWarning: \"is\" with a literal. Did you mean \"==\"?\n",
      "C:\\Users\\choll\\AppData\\Local\\Temp\\ipykernel_29756\\2901261343.py:1: SyntaxWarning: \"is\" with a literal. Did you mean \"==\"?\n",
      "  if faces is ():\n"
     ]
    }
   ],
   "source": [
    "if faces is ():\n",
    "    print('No faces found')\n",
    "    \n",
    "for (x,y,w,h) in faces :\n",
    "    cv2.rectangle(image,(x,y),(x+w,y+h),(0,255,100),1)\n",
    "cv2.imshow('Face Detection',image)\n",
    "cv2.waitKey(2000)\n",
    "cv2.destroyAllWindows()"
   ]
  },
  {
   "cell_type": "code",
   "execution_count": 15,
   "id": "bf63c313",
   "metadata": {},
   "outputs": [],
   "source": [
    "face_classifier = cv2.CascadeClassifier('haarcascade_frontalface_default[1].xml')\n",
    "eye_classifier = cv2.CascadeClassifier('haarcascade_eye.xml')"
   ]
  },
  {
   "cell_type": "markdown",
   "id": "41e772b5",
   "metadata": {},
   "source": [
    "## Modi Face and eye detection color"
   ]
  },
  {
   "cell_type": "code",
   "execution_count": 16,
   "id": "81ace39d",
   "metadata": {},
   "outputs": [
    {
     "name": "stderr",
     "output_type": "stream",
     "text": [
      "<>:7: SyntaxWarning: \"is\" with a literal. Did you mean \"==\"?\n",
      "<>:7: SyntaxWarning: \"is\" with a literal. Did you mean \"==\"?\n",
      "C:\\Users\\choll\\AppData\\Local\\Temp\\ipykernel_29756\\720439444.py:7: SyntaxWarning: \"is\" with a literal. Did you mean \"==\"?\n",
      "  if faces is ():\n"
     ]
    }
   ],
   "source": [
    "img = cv2.imread('Modi.jpg')\n",
    "resized_image =cv2.resize(img,(500,500))\n",
    "gray = cv2.cvtColor(resized_image,cv2.COLOR_BGR2GRAY)\n",
    "\n",
    "faces = face_classifier.detectMultiScale(resized_image,1.3,5)\n",
    "\n",
    "if faces is ():\n",
    "    print('no faces found')\n",
    "    \n",
    "for (x,y,w,h) in faces:\n",
    "    cv2.rectangle(resized_image,(x,y),(x+w,y+h),(255,0,0),2)\n",
    "    roi_gray = gray[y:y+h,x:x+w]\n",
    "    roi_color = resized_image[y:y+h,x:x+w]\n",
    "    eyes = eye_classifier.detectMultiScale(roi_color)\n",
    "    for (ex,ey,ew,eh) in eyes:\n",
    "        cv2.rectangle(roi_color,(ex,ey),(ex+ew,ey+eh),(0,0,255),2)\n",
    "        \n",
    "cv2.imshow('img',resized_image)\n",
    "cv2.waitKey(2000)\n",
    "cv2.destroyAllWindows()"
   ]
  },
  {
   "cell_type": "markdown",
   "id": "8450458c",
   "metadata": {},
   "source": [
    "## Modi Face and eye detection b/w"
   ]
  },
  {
   "cell_type": "code",
   "execution_count": 17,
   "id": "770595aa",
   "metadata": {},
   "outputs": [
    {
     "name": "stderr",
     "output_type": "stream",
     "text": [
      "<>:7: SyntaxWarning: \"is\" with a literal. Did you mean \"==\"?\n",
      "<>:7: SyntaxWarning: \"is\" with a literal. Did you mean \"==\"?\n",
      "C:\\Users\\choll\\AppData\\Local\\Temp\\ipykernel_29756\\203300042.py:7: SyntaxWarning: \"is\" with a literal. Did you mean \"==\"?\n",
      "  if faces is ():\n"
     ]
    }
   ],
   "source": [
    "img = cv2.imread('Modi.jpg')\n",
    "resized_image =cv2.resize(img,(500,500))\n",
    "gray = cv2.cvtColor(resized_image,cv2.COLOR_BGR2GRAY)\n",
    "\n",
    "faces = face_classifier.detectMultiScale(gray, 1.3, 5)\n",
    "\n",
    "if faces is ():\n",
    "    print('no faces found')\n",
    "    \n",
    "for (x,y,w,h) in faces:\n",
    "    cv2.rectangle(gray,(x,y),(x+w,y+h),(0,255,0),2)\n",
    "    roi_gray = gray[y:y+h,x:x+w]\n",
    "    roi_color = resized_image[y:y+h,x:x+w]\n",
    "    eyes = eye_classifier.detectMultiScale(roi_gray)\n",
    "    for (ex,ey,ew,eh) in eyes:\n",
    "        cv2.rectangle(roi_gray,(ex,ey),(ex+ew,ey+eh),(255,0,0),2)\n",
    "        \n",
    "cv2.imshow('img',gray)\n",
    "cv2.waitKey(2000)\n",
    "cv2.destroyAllWindows()"
   ]
  },
  {
   "cell_type": "code",
   "execution_count": null,
   "id": "5862588e",
   "metadata": {},
   "outputs": [],
   "source": []
  }
 ],
 "metadata": {
  "kernelspec": {
   "display_name": "Python 3 (ipykernel)",
   "language": "python",
   "name": "python3"
  },
  "language_info": {
   "codemirror_mode": {
    "name": "ipython",
    "version": 3
   },
   "file_extension": ".py",
   "mimetype": "text/x-python",
   "name": "python",
   "nbconvert_exporter": "python",
   "pygments_lexer": "ipython3",
   "version": "3.9.16"
  }
 },
 "nbformat": 4,
 "nbformat_minor": 5
}
