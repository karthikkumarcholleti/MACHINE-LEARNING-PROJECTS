•	Objective: Developed a model to predict the winning team of the IPL 2024 based on historical player performance data.
•	Techniques Used: Data visualization, heat maps, Random Forest algorithm.
•	Key Contributions: Analysed and processed statistical player performances and created visualizations to identify key patterns and trends of individual player and implemented Random Forest model to predict outcomes with improved accuracy.
